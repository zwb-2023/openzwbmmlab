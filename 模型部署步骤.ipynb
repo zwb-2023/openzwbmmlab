{
 "cells": [
  {
   "cell_type": "markdown",
   "id": "27493c29",
   "metadata": {},
   "source": [
    "#### 模型部署步骤\n",
    "\n",
    "先使用mmdeploy将训练好的模型转换为onnx格式\n",
    "\n",
    "可以直接安装mmdeploy进行推理，即使想要直接用onnx库，也需要先用mmdeploy做测试，看看onnx模型能否成功跑通\n",
    "\n",
    "跑通后如果需要直接使用onnx库，则需要自己写好预处理方法，然后调用onnx库进行推理"
   ]
  },
  {
   "cell_type": "markdown",
   "id": "f11e0f6c",
   "metadata": {},
   "source": [
    "#### pth模型转换为onnx\n",
    "\n",
    "有两种转换方式，一种是使用python代码转换，还有一种是通过命令行转换"
   ]
  },
  {
   "cell_type": "code",
   "execution_count": null,
   "id": "46e126d6",
   "metadata": {},
   "outputs": [],
   "source": [
    "import onnxruntime\n",
    "import cv2\n",
    "import numpy as np\n",
    "\n",
    "from mmdeploy.apis import torch2onnx\n",
    "\n",
    "# 关键参数配置\n",
    "img_path = paths\n",
    "work_dir = rf'H:\\临时使用数据'\n",
    "save_file = 'model.onnx'\n",
    "deploy_cfg = rf'E:\\code\\openmmlab\\mmdeploy\\configs\\mmseg\\segmentation_onnxruntime_dynamic.py'\n",
    "model_cfg = rf'H:\\临时使用数据\\config.py'  # 您的模型配置文件\n",
    "checkpoint = rf'H:\\临时使用数据\\deeplabv3plus_20250620_113954.pth'  # 训练好的权重\n",
    "\n",
    "# 执行转换\n",
    "torch2onnx(img_path, work_dir, save_file, deploy_cfg, model_cfg, checkpoint, device='cpu')"
   ]
  },
  {
   "cell_type": "markdown",
   "id": "b8babcc2",
   "metadata": {},
   "source": [
    "#### MMseg推理\n",
    "\n",
    "先确认原本的pth模型是没有问题的"
   ]
  },
  {
   "cell_type": "code",
   "execution_count": 9,
   "id": "3413dff5",
   "metadata": {},
   "outputs": [],
   "source": [
    "import os\n",
    "from argparse import ArgumentParser\n",
    "from mmengine.model import revert_sync_batchnorm\n",
    "from mmseg.apis import inference_model, init_model, show_result_pyplot \n",
    "import numpy as np\n",
    "import cv2\n",
    "from tqdm import tqdm\n",
    "\n",
    "# device = 'cpu'  # cpu or 'cuda:0'\n",
    "\n",
    "\n",
    "class MMSegDetector:\n",
    "    def __init__(self, config_path, checkpoint_path, device):\n",
    "        self.device = device\n",
    "        self.model = init_model(config_path, checkpoint_path, device=device)\n",
    "        if device == 'cpu':\n",
    "            self.model = revert_sync_batchnorm(self.model)\n",
    "\n",
    "    def infer(self, img_path):\n",
    "        result = inference_model(self.model, img_path)\n",
    "        if self.device == 'cpu':\n",
    "            pred_mask = result.pred_sem_seg.data[0].numpy().astype(np.uint8)\n",
    "        else:\n",
    "            pred_mask = result.pred_sem_seg.data[0].cpu().numpy().astype(np.uint8)\n",
    "        return pred_mask\n",
    "\n",
    "    def visual(self, pred_mask, image):\n",
    "\n",
    "        colored_mask = np.zeros_like(image)\n",
    "        colored_mask[pred_mask == 1] = [0, 0, 255]\n",
    "        alpha = 0.5\n",
    "        vis_img = image.copy()\n",
    "        vis_img[pred_mask == 1] = cv2.addWeighted(image[pred_mask == 1], 1 - alpha, colored_mask[pred_mask == 1], alpha,\n",
    "                                                  0)\n",
    "\n",
    "        return vis_img\n",
    "\n",
    "import os\n",
    "\n",
    "def find_files_with_extension(start_path, extension):\n",
    "    file_list = []\n",
    "\n",
    "    # 遍历起始路径下的所有文件和文件夹\n",
    "    for root, dirs, files in os.walk(start_path):\n",
    "        for file in files:\n",
    "            # 检查文件后缀是否匹配\n",
    "            if file.endswith(extension):\n",
    "                # 构建完整的文件路径并添加到列表中\n",
    "                file_path = os.path.join(root, file)\n",
    "                file_list.append(file_path)\n",
    "\n",
    "    return file_list\n",
    "\n",
    "\n"
   ]
  },
  {
   "cell_type": "code",
   "execution_count": 10,
   "id": "c687be10",
   "metadata": {},
   "outputs": [
    {
     "name": "stderr",
     "output_type": "stream",
     "text": [
      "e:\\code\\openmmlab\\mmsegmentation\\mmseg\\models\\decode_heads\\decode_head.py:120: UserWarning: For binary segmentation, we suggest using`out_channels = 1` to define the outputchannels of segmentor, and use `threshold`to convert `seg_logits` into a predictionapplying a threshold\n",
      "  warnings.warn('For binary segmentation, we suggest using'\n",
      "e:\\code\\openmmlab\\mmsegmentation\\mmseg\\models\\losses\\cross_entropy_loss.py:250: UserWarning: Default ``avg_non_ignore`` is False, if you would like to ignore the certain label and average loss over non-ignore labels, which is the same with PyTorch official cross_entropy, set ``avg_non_ignore=True``.\n",
      "  warnings.warn(\n"
     ]
    },
    {
     "name": "stdout",
     "output_type": "stream",
     "text": [
      "Loads checkpoint by local backend from path: H:\\临时使用数据\\deeplabv3plus_20250620_113954.pth\n"
     ]
    },
    {
     "data": {
      "text/plain": [
       "<matplotlib.image.AxesImage at 0x14d7daa44f0>"
      ]
     },
     "execution_count": 10,
     "metadata": {},
     "output_type": "execute_result"
    },
    {
     "data": {
      "image/png": "[encoded data removed]",
      "text/plain": [
       "<Figure size 640x480 with 1 Axes>"
      ]
     },
     "metadata": {},
     "output_type": "display_data"
    }
   ],
   "source": [
    "\n",
    "config_path = rf'H:\\临时使用数据\\config.py'\n",
    "checkpoint_path = rf\"H:\\临时使用数据\\deeplabv3plus_20250620_113954.pth\"\n",
    "device = 'cpu'  # cpu or 'cuda:0'\n",
    "# init_default_scope(\"mmseg\")\n",
    "seg_detector = MMSegDetector(\n",
    "    config_path=config_path,\n",
    "    checkpoint_path=checkpoint_path,\n",
    "    device=device)\n",
    "\n",
    "\n",
    "import glob\n",
    "paths = rf'H:\\临时使用数据\\标注数据\\2.bmp'\n",
    "\n",
    "cv_img = cv2.imdecode(np.fromfile( paths, dtype=np.uint8), 1)\n",
    "pred_mask = seg_detector.infer(cv_img)\n",
    "    # if pred_mask.max() == 0:\n",
    "    #     continue\n",
    "    # vis_img = seg_detector.visual(pred_mask, cv_img)\n",
    "    # savepath = imgpath.replace('.png', '可视化.png')\n",
    "    # cv2.imencode(\".png\", vis_img)[1].tofile(savepath)\n",
    "    # print(savepath)\n",
    "import matplotlib.pyplot as plt\n",
    "plt.imshow(pred_mask)"
   ]
  },
  {
   "cell_type": "markdown",
   "id": "6240680a",
   "metadata": {},
   "source": [
    "#### 使用mmdeploy进行推理\n",
    "\n",
    "可以在目标环境直接按照mmdeploy，但是如果需要只使用onnx库，也需要先检验一下onnx是没有问题的"
   ]
  },
  {
   "cell_type": "code",
   "execution_count": 4,
   "id": "13f3303b",
   "metadata": {},
   "outputs": [
    {
     "name": "stdout",
     "output_type": "stream",
     "text": [
      "06/27 11:00:37 - mmengine - \u001b[4m\u001b[97mINFO\u001b[0m - Successfully loaded onnxruntime custom ops from d:\\Anaconda\\envs\\mmdete\\lib\\site-packages\\mmdeploy\\lib\\mmdeploy_onnxruntime_ops.dll\n"
     ]
    },
    {
     "data": {
      "text/plain": [
       "<matplotlib.image.AxesImage at 0x14c00263970>"
      ]
     },
     "execution_count": 4,
     "metadata": {},
     "output_type": "execute_result"
    },
    {
     "data": {
      "image/png": "[encoded data removed]",
      "text/plain": [
       "<Figure size 640x480 with 1 Axes>"
      ]
     },
     "metadata": {},
     "output_type": "display_data"
    }
   ],
   "source": [
    "from mmdeploy.apis.utils import build_task_processor\n",
    "from mmdeploy.utils import get_input_shape, load_config\n",
    "import torch\n",
    "import matplotlib.pyplot as plt\n",
    "import numpy as np\n",
    "\n",
    "deploy_cfg = rf'E:\\code\\openmmlab\\mmdeploy\\configs\\mmseg\\segmentation_onnxruntime_dynamic.py'\n",
    "model_cfg = rf'H:\\临时使用数据\\config.py'\n",
    "device = 'cpu'\n",
    "backend_model = ['E:\\code\\openmmlab\\mmdeploy\\output/end2end.onnx']\n",
    "image = rf'H:\\临时使用数据\\标注数据\\2.bmp'\n",
    "\n",
    "# read deploy_cfg and model_cfg\n",
    "deploy_cfg, model_cfg = load_config(deploy_cfg, model_cfg)\n",
    "\n",
    "# build task and backend model\n",
    "task_processor = build_task_processor(model_cfg, deploy_cfg, device)\n",
    "model = task_processor.build_backend_model(backend_model)\n",
    "\n",
    "# process input image\n",
    "input_shape = get_input_shape(deploy_cfg)\n",
    "model_inputs, _ = task_processor.create_input(image, input_shape)\n",
    "\n",
    "# do model inference\n",
    "with torch.no_grad():\n",
    "    result = model.test_step(model_inputs)\n",
    "\n",
    "# visualize results\n",
    "task_processor.visualize(\n",
    "    image=image,\n",
    "    model=model,\n",
    "    result=result[0],\n",
    "    window_name='visualize',\n",
    "    output_file='./output_segmentation.png')\n",
    "\n",
    "plt.imshow(np.array(result[0].pred_sem_seg.data[0,:,:]))"
   ]
  },
  {
   "cell_type": "markdown",
   "id": "e7b55e54",
   "metadata": {},
   "source": [
    "### onnx推理\n",
    "\n",
    "需要自己把原本训练模型所使用的预处理方式和后处理方式搬出来\n",
    "\n",
    "因为onnx文件只包含后端推理"
   ]
  },
  {
   "cell_type": "code",
   "execution_count": 19,
   "id": "1758d8fc",
   "metadata": {},
   "outputs": [
    {
     "data": {
      "image/png": "[encoded data removed]",
      "text/plain": [
       "<Figure size 640x480 with 1 Axes>"
      ]
     },
     "metadata": {},
     "output_type": "display_data"
    }
   ],
   "source": [
    "import onnxruntime as ort\n",
    "import cv2\n",
    "import numpy as np\n",
    "import matplotlib.pyplot as plt\n",
    "\n",
    "class ONNXSegmentationInference:\n",
    "    def __init__(self, onnx_path, img_size=(512, 512)):\n",
    "        # 初始化ONNX推理器\n",
    "        self.session = ort.InferenceSession(onnx_path)\n",
    "        self.input_name = self.session.get_inputs()[0].name\n",
    "        self.output_name = self.session.get_outputs()[0].name\n",
    "        self.img_size = img_size\n",
    "        self.mean = np.array([123.675, 116.28, 103.53], dtype=np.float32)\n",
    "        self.std = np.array([58.395, 57.12, 57.375], dtype=np.float32)\n",
    "\n",
    "\n",
    "    def preprocess(self, image):\n",
    "        # 图像预处理\n",
    "        orig_h, orig_w = image.shape[:2]\n",
    "        image = cv2.cvtColor(image, cv2.COLOR_BGR2RGB)  # 转换为RGB\n",
    "        scale = min(self.img_size[0] / orig_h, self.img_size[1] / orig_w)\n",
    "        new_h, new_w = int(orig_h * scale), int(orig_w * scale)\n",
    "        \n",
    "        resized_img = cv2.resize(image, (new_w, new_h))\n",
    "        normalized_img = (resized_img - self.mean) / self.std\n",
    "        transposed_img = normalized_img.transpose(2, 0, 1)\n",
    "        processed_img = np.expand_dims(transposed_img, axis=0).astype(np.float32)\n",
    "        return processed_img, (orig_h, orig_w), (new_h, new_w)\n",
    "\n",
    "\n",
    "\n",
    "    def inference(self, image):\n",
    "        # 执行推理\n",
    "        input_tensor, orig_size, new_size = self.preprocess(image)\n",
    "        output = self.session.run([self.output_name], {self.input_name: input_tensor})[0]\n",
    "        return output\n",
    "\n",
    "    def postprocess(self, output, orig_size, new_size):\n",
    "        # 后处理: 从ONNX输出得到掩码\n",
    "        pred = output[0].argmax(axis=0).astype(np.uint8)\n",
    "        cropped = pred[:new_size[0], :new_size[1]]\n",
    "        final_mask = cv2.resize(cropped, (orig_size[1], orig_size[0]), interpolation=cv2.INTER_NEAREST)\n",
    "        # 输出final_mask\n",
    "        plt.imshow(final_mask)\n",
    "        plt.show\n",
    "\n",
    "        return final_mask\n",
    "\n",
    "    def visualize(self, image, mask):\n",
    "        # 可视化分割结果\n",
    "        color_mask = np.zeros_like(image)\n",
    "        color_mask[mask == 1] = [0, 255, 0]  # 将类别1标记为绿色\n",
    "        vis_img = cv2.addWeighted(image, 1, color_mask, 0.5, 0)\n",
    "        return vis_img\n",
    "\n",
    "\n",
    "\n",
    "# 初始化推理器\n",
    "onnx_path = rf'E:\\code\\openmmlab\\mmdeploy\\output/end2end.onnx'  # 替换为你的ONNX模型路径\n",
    "inferencer = ONNXSegmentationInference(onnx_path)\n",
    "\n",
    "# 执行推理\n",
    "raw_output = inferencer.inference(cv_img)\n",
    "\n",
    "plt.imshow(raw_output[0,0,:,:])\n",
    "plt.show()"
   ]
  }
 ],
 "metadata": {
  "kernelspec": {
   "display_name": "mmdete",
   "language": "python",
   "name": "python3"
  },
  "language_info": {
   "codemirror_mode": {
    "name": "ipython",
    "version": 3
   },
   "file_extension": ".py",
   "mimetype": "text/x-python",
   "name": "python",
   "nbconvert_exporter": "python",
   "pygments_lexer": "ipython3",
   "version": "3.8.0"
  }
 },
 "nbformat": 4,
 "nbformat_minor": 5
}
